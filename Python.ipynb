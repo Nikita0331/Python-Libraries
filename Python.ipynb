{
 "cells": [
  {
   "cell_type": "code",
   "execution_count": null,
   "id": "2629989c",
   "metadata": {},
   "outputs": [],
   "source": [
    "#class and objects"
   ]
  },
  {
   "cell_type": "code",
   "execution_count": 1,
   "id": "07dbc3b0",
   "metadata": {},
   "outputs": [
    {
     "name": "stdout",
     "output_type": "stream",
     "text": [
      "calling\n",
      "playing\n"
     ]
    }
   ],
   "source": [
    "class Phone:\n",
    "    def make_call(self):\n",
    "        print(\"calling\")\n",
    "    def play_game(self):\n",
    "        print(\"playing\")\n",
    "p=Phone()\n",
    "p.make_call()\n",
    "p.play_game()"
   ]
  },
  {
   "cell_type": "code",
   "execution_count": null,
   "id": "f43da10e",
   "metadata": {},
   "outputs": [],
   "source": []
  },
  {
   "cell_type": "code",
   "execution_count": 10,
   "id": "f788682a",
   "metadata": {},
   "outputs": [
    {
     "data": {
      "text/plain": [
       "'red'"
      ]
     },
     "execution_count": 10,
     "metadata": {},
     "output_type": "execute_result"
    }
   ],
   "source": [
    "class Phone:\n",
    "    def set_color(self,color):\n",
    "        self.color=color\n",
    "    def set_cost(self,cost):\n",
    "        self.cost=cost\n",
    "    def show_color(self):\n",
    "        return self.color\n",
    "    def show_cost(self):\n",
    "        return self.cost\n",
    "    def make_call(self):\n",
    "        print(\"calling\")\n",
    "    def play_game(self):\n",
    "        print(\"playing\")\n",
    "p1=Phone()\n",
    "p1.set_color(\"red\")\n",
    "p1.set_cost(300)\n",
    "p1.show_color()\n",
    "\n"
   ]
  },
  {
   "cell_type": "code",
   "execution_count": 11,
   "id": "ab63e788",
   "metadata": {},
   "outputs": [
    {
     "data": {
      "text/plain": [
       "300"
      ]
     },
     "execution_count": 11,
     "metadata": {},
     "output_type": "execute_result"
    }
   ],
   "source": [
    "p1.show_cost()"
   ]
  },
  {
   "cell_type": "code",
   "execution_count": 12,
   "id": "6f06e750",
   "metadata": {},
   "outputs": [
    {
     "name": "stdout",
     "output_type": "stream",
     "text": [
      "calling\n",
      "playing\n"
     ]
    }
   ],
   "source": [
    "p1.make_call()\n",
    "p1.play_game()"
   ]
  },
  {
   "cell_type": "code",
   "execution_count": 15,
   "id": "b7665e3f",
   "metadata": {},
   "outputs": [
    {
     "name": "stdout",
     "output_type": "stream",
     "text": [
      "Print details : \n",
      "Name :  Nik\n",
      "Age :  30\n",
      "Salary :  30000\n",
      "Gender :  Male\n"
     ]
    }
   ],
   "source": [
    "class Employee:\n",
    "    def __init__(self,name,age,salary,gender):\n",
    "        self.name=name\n",
    "        self.age=age\n",
    "        self.salary=salary\n",
    "        self.gender=gender\n",
    "    def employee_details(self):\n",
    "        print(\"Name : \",self.name)\n",
    "        print(\"Age : \",self.age)\n",
    "        print(\"Salary : \",self.salary)\n",
    "        print(\"Gender : \",self.gender)\n",
    "print(\"Print details : \")\n",
    "e=Employee(\"Nik\",30,30000,\"Male\")\n",
    "e=e.employee_details()"
   ]
  },
  {
   "cell_type": "code",
   "execution_count": 30,
   "id": "a3f9c0d8",
   "metadata": {
    "scrolled": true
   },
   "outputs": [
    {
     "name": "stdout",
     "output_type": "stream",
     "text": [
      "Vehicle :  Honda\n",
      "Mileage :  500\n",
      "Cost :  500\n",
      "Car\n"
     ]
    }
   ],
   "source": [
    "class Vehicle:\n",
    "    def __init__(self,name,mileage,cost):\n",
    "        self.name=name\n",
    "        self.mileage=mileage\n",
    "        self.cost=cost\n",
    "    def show_Details(self):\n",
    "        #print(\"Vehicle\")\n",
    "        print(\"Vehicle : \",self.name)\n",
    "        print(\"Mileage : \",self.mileage)\n",
    "        print(\"Cost : \",self.cost)\n",
    "v=Vehicle(\"Honda\",500,500)\n",
    "v=v.show_Details()\n",
    "class Car(Vehicle):\n",
    "    def show_car(self):\n",
    "        print(\"Car\")\n",
    "c=Car(\"Nexon\",300,400)\n",
    "#c=c.show_Details()\n",
    "c=c.show_car()"
   ]
  },
  {
   "cell_type": "code",
   "execution_count": null,
   "id": "1f366a5d",
   "metadata": {},
   "outputs": [],
   "source": [
    "#single inheritance"
   ]
  },
  {
   "cell_type": "code",
   "execution_count": 51,
   "id": "c0f599e1",
   "metadata": {},
   "outputs": [
    {
     "name": "stdout",
     "output_type": "stream",
     "text": [
      "Vehicle\n",
      "Mileage :  20\n",
      "Cost :  22\n"
     ]
    }
   ],
   "source": [
    "class Vehicle:\n",
    "    def __init__(self,mileage,cost):\n",
    "        self.mileage=mileage\n",
    "        self.cost=cost\n",
    "    def show_details(self):\n",
    "        print(\"Vehicle\")\n",
    "        print(\"Mileage : \",self.mileage)\n",
    "        print(\"Cost : \",self.cost)\n",
    "v=Vehicle(300,500)\n",
    "class Car(Vehicle):\n",
    "    def __init__(self,mileage,cost,tyre,hp):\n",
    "        super().__init__(mileage,cost)\n",
    "        self.tyre=tyre\n",
    "        self.hp=hp\n",
    "    def show_car(self):\n",
    "        print(\"Car\")\n",
    "        print(\"Tyre : \",self.tyre)\n",
    "        print(\"Hp : \",self.hp)\n",
    "c=Car(20,22,300,400)\n",
    "c=c.show_details()\n",
    "#c=c.show_car()"
   ]
  },
  {
   "cell_type": "code",
   "execution_count": null,
   "id": "40f18bb7",
   "metadata": {},
   "outputs": [],
   "source": [
    "#multiple inheritance"
   ]
  },
  {
   "cell_type": "code",
   "execution_count": 61,
   "id": "f5db71eb",
   "metadata": {},
   "outputs": [],
   "source": [
    "class Parent1:\n",
    "    def assign_string_one(self,str1):\n",
    "        self.str1=str1\n",
    "    def show_string_one(self):\n",
    "        return self.str1\n",
    "class Parent2:\n",
    "    def assign_string_two(self,str2):\n",
    "        self.str2=str2\n",
    "    def show_string_two(self):\n",
    "        return self.str2\n",
    "class Derived(Parent1,Parent2):\n",
    "    def assign_string_three(self,str3):\n",
    "        self.str3=str3\n",
    "    def show_string_three(self):\n",
    "        return self.str3\n",
    "d=Derived()\n",
    "d.assign_string_one(\"one\")\n",
    "d.assign_string_two(\"two\")\n",
    "d.assign_string_three(\"three\")"
   ]
  },
  {
   "cell_type": "code",
   "execution_count": 62,
   "id": "b43927d0",
   "metadata": {},
   "outputs": [
    {
     "data": {
      "text/plain": [
       "'one'"
      ]
     },
     "execution_count": 62,
     "metadata": {},
     "output_type": "execute_result"
    }
   ],
   "source": [
    "d.show_string_one()"
   ]
  },
  {
   "cell_type": "code",
   "execution_count": 63,
   "id": "c750302d",
   "metadata": {},
   "outputs": [
    {
     "data": {
      "text/plain": [
       "'two'"
      ]
     },
     "execution_count": 63,
     "metadata": {},
     "output_type": "execute_result"
    }
   ],
   "source": [
    "d.show_string_two()\n",
    "    "
   ]
  },
  {
   "cell_type": "code",
   "execution_count": 64,
   "id": "a7d99131",
   "metadata": {},
   "outputs": [
    {
     "data": {
      "text/plain": [
       "'three'"
      ]
     },
     "execution_count": 64,
     "metadata": {},
     "output_type": "execute_result"
    }
   ],
   "source": [
    "d.show_string_three()"
   ]
  },
  {
   "cell_type": "code",
   "execution_count": null,
   "id": "2fade054",
   "metadata": {},
   "outputs": [],
   "source": [
    "#multilevel inheritance"
   ]
  },
  {
   "cell_type": "code",
   "execution_count": 70,
   "id": "d4143c04",
   "metadata": {},
   "outputs": [],
   "source": [
    "class Parent:\n",
    "    def assign_name(self,name):\n",
    "        self.name=name\n",
    "    def show_name(self):\n",
    "        return self.name\n",
    "class Child(Parent):\n",
    "    def assign_age(self,age):\n",
    "        self.age=age\n",
    "    def show_age(self):\n",
    "        return self.age\n",
    "class Grandchild(Child):\n",
    "    def assign_gender(self,gender):\n",
    "        self.gender=gender\n",
    "    def show_gender(self):\n",
    "        return self.gender"
   ]
  },
  {
   "cell_type": "code",
   "execution_count": 85,
   "id": "dbc67f9b",
   "metadata": {},
   "outputs": [],
   "source": [
    "gc=Grandchild()\n",
    "gc.assign_name(\"nikky\")\n",
    "gc.assign_age('18')\n",
    "gc.assign_gender(\"F\")"
   ]
  },
  {
   "cell_type": "code",
   "execution_count": 86,
   "id": "0fc9a672",
   "metadata": {},
   "outputs": [
    {
     "data": {
      "text/plain": [
       "'nikky'"
      ]
     },
     "execution_count": 86,
     "metadata": {},
     "output_type": "execute_result"
    }
   ],
   "source": [
    "gc.show_name()"
   ]
  },
  {
   "cell_type": "code",
   "execution_count": 87,
   "id": "8cb0b1f5",
   "metadata": {},
   "outputs": [
    {
     "data": {
      "text/plain": [
       "'18'"
      ]
     },
     "execution_count": 87,
     "metadata": {},
     "output_type": "execute_result"
    }
   ],
   "source": [
    "gc.show_age()"
   ]
  },
  {
   "cell_type": "code",
   "execution_count": 88,
   "id": "02de228f",
   "metadata": {},
   "outputs": [
    {
     "data": {
      "text/plain": [
       "'F'"
      ]
     },
     "execution_count": 88,
     "metadata": {},
     "output_type": "execute_result"
    }
   ],
   "source": [
    "gc.show_gender()"
   ]
  },
  {
   "cell_type": "code",
   "execution_count": null,
   "id": "f443df5f",
   "metadata": {},
   "outputs": [],
   "source": []
  }
 ],
 "metadata": {
  "kernelspec": {
   "display_name": "Python 3 (ipykernel)",
   "language": "python",
   "name": "python3"
  },
  "language_info": {
   "codemirror_mode": {
    "name": "ipython",
    "version": 3
   },
   "file_extension": ".py",
   "mimetype": "text/x-python",
   "name": "python",
   "nbconvert_exporter": "python",
   "pygments_lexer": "ipython3",
   "version": "3.9.12"
  }
 },
 "nbformat": 4,
 "nbformat_minor": 5
}
